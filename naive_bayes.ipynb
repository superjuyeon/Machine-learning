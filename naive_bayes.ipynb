{
  "nbformat": 4,
  "nbformat_minor": 0,
  "metadata": {
    "colab": {
      "name": "naive_bayes.ipynb",
      "provenance": []
    },
    "kernelspec": {
      "name": "python3",
      "display_name": "Python 3"
    }
  },
  "cells": [
    {
      "cell_type": "markdown",
      "metadata": {
        "id": "TY3VhQiDtUy2"
      },
      "source": [
        "#가우시안 나이브 베이즈 실습"
      ]
    },
    {
      "cell_type": "code",
      "metadata": {
        "id": "b6WiXlE0F6Tm"
      },
      "source": [
        "#가우시안 나이브 베이즈를 활용한 붓꽃 분류\n",
        "import pandas as pd\n",
        "from sklearn.datasets import load_iris\n",
        "from sklearn.model_selection import train_test_split\n",
        "from sklearn.naive_bayes import GaussianNB\n",
        "from sklearn import metrics\n",
        "from sklearn.metrics import accuracy_score"
      ],
      "execution_count": 2,
      "outputs": []
    },
    {
      "cell_type": "code",
      "metadata": {
        "colab": {
          "base_uri": "https://localhost:8080/",
          "height": 198
        },
        "id": "lEXGQjxKGYP9",
        "outputId": "b98d6bdc-304f-4b49-f3db-02b8892f2f10"
      },
      "source": [
        "# iris data 불러오기\n",
        "dataset = load_iris()\n",
        "df = pd.DataFrame(dataset.data, columns=dataset.feature_names)\n",
        "df['target'] = dataset.target\n",
        "df.target = df.target.map({0:'setosa', 1:'versicolor', 2:'viginica'})\n",
        "df.head()"
      ],
      "execution_count": 6,
      "outputs": [
        {
          "output_type": "execute_result",
          "data": {
            "text/html": [
              "<div>\n",
              "<style scoped>\n",
              "    .dataframe tbody tr th:only-of-type {\n",
              "        vertical-align: middle;\n",
              "    }\n",
              "\n",
              "    .dataframe tbody tr th {\n",
              "        vertical-align: top;\n",
              "    }\n",
              "\n",
              "    .dataframe thead th {\n",
              "        text-align: right;\n",
              "    }\n",
              "</style>\n",
              "<table border=\"1\" class=\"dataframe\">\n",
              "  <thead>\n",
              "    <tr style=\"text-align: right;\">\n",
              "      <th></th>\n",
              "      <th>sepal length (cm)</th>\n",
              "      <th>sepal width (cm)</th>\n",
              "      <th>petal length (cm)</th>\n",
              "      <th>petal width (cm)</th>\n",
              "      <th>target</th>\n",
              "    </tr>\n",
              "  </thead>\n",
              "  <tbody>\n",
              "    <tr>\n",
              "      <th>0</th>\n",
              "      <td>5.1</td>\n",
              "      <td>3.5</td>\n",
              "      <td>1.4</td>\n",
              "      <td>0.2</td>\n",
              "      <td>setosa</td>\n",
              "    </tr>\n",
              "    <tr>\n",
              "      <th>1</th>\n",
              "      <td>4.9</td>\n",
              "      <td>3.0</td>\n",
              "      <td>1.4</td>\n",
              "      <td>0.2</td>\n",
              "      <td>setosa</td>\n",
              "    </tr>\n",
              "    <tr>\n",
              "      <th>2</th>\n",
              "      <td>4.7</td>\n",
              "      <td>3.2</td>\n",
              "      <td>1.3</td>\n",
              "      <td>0.2</td>\n",
              "      <td>setosa</td>\n",
              "    </tr>\n",
              "    <tr>\n",
              "      <th>3</th>\n",
              "      <td>4.6</td>\n",
              "      <td>3.1</td>\n",
              "      <td>1.5</td>\n",
              "      <td>0.2</td>\n",
              "      <td>setosa</td>\n",
              "    </tr>\n",
              "    <tr>\n",
              "      <th>4</th>\n",
              "      <td>5.0</td>\n",
              "      <td>3.6</td>\n",
              "      <td>1.4</td>\n",
              "      <td>0.2</td>\n",
              "      <td>setosa</td>\n",
              "    </tr>\n",
              "  </tbody>\n",
              "</table>\n",
              "</div>"
            ],
            "text/plain": [
              "   sepal length (cm)  sepal width (cm)  ...  petal width (cm)  target\n",
              "0                5.1               3.5  ...               0.2  setosa\n",
              "1                4.9               3.0  ...               0.2  setosa\n",
              "2                4.7               3.2  ...               0.2  setosa\n",
              "3                4.6               3.1  ...               0.2  setosa\n",
              "4                5.0               3.6  ...               0.2  setosa\n",
              "\n",
              "[5 rows x 5 columns]"
            ]
          },
          "metadata": {
            "tags": []
          },
          "execution_count": 6
        }
      ]
    },
    {
      "cell_type": "code",
      "metadata": {
        "id": "RfIE0F0QG_aO"
      },
      "source": [
        "#데이터 시각화\n",
        "setosa_df = df[df.target == 'setosa']\n",
        "versicolor_df = df[df.target == 'versicolor']\n",
        "viginica_df = df[df.target == 'viginica']"
      ],
      "execution_count": 15,
      "outputs": []
    },
    {
      "cell_type": "code",
      "metadata": {
        "colab": {
          "base_uri": "https://localhost:8080/",
          "height": 298
        },
        "id": "StJ9NoRdHERx",
        "outputId": "1e53ab20-3ad4-43aa-cb47-d1c80045f718"
      },
      "source": [
        "ax = setosa_df['sepal length (cm)'].plot(kind='hist')\n",
        "setosa_df['sepal length (cm)'].plot(kind='kde', ax= ax, secondary_y = True, \n",
        "                                    title = 'setosa sepal length (cm) distribution',\n",
        "                                    figsize = (8,4))"
      ],
      "execution_count": 21,
      "outputs": [
        {
          "output_type": "execute_result",
          "data": {
            "text/plain": [
              "<matplotlib.axes._subplots.AxesSubplot at 0x7f1d502fbf28>"
            ]
          },
          "metadata": {
            "tags": []
          },
          "execution_count": 21
        },
        {
          "output_type": "display_data",
          "data": {
            "image/png": "[encoded data removed]",
            "text/plain": [
              "<Figure size 576x288 with 2 Axes>"
            ]
          },
          "metadata": {
            "tags": [],
            "needs_background": "light"
          }
        }
      ]
    },
    {
      "cell_type": "code",
      "metadata": {
        "colab": {
          "base_uri": "https://localhost:8080/",
          "height": 298
        },
        "id": "vUX2ZniBJGkB",
        "outputId": "0a2d2e0f-5102-48e8-850a-93fb0863f092"
      },
      "source": [
        "ax = versicolor_df['sepal length (cm)'].plot(kind='hist')\n",
        "versicolor_df['sepal length (cm)'].plot(kind='kde', ax= ax, secondary_y = True, \n",
        "                                    title = 'setosa sepal length (cm) distribution',\n",
        "                                    figsize = (8,4))"
      ],
      "execution_count": 22,
      "outputs": [
        {
          "output_type": "execute_result",
          "data": {
            "text/plain": [
              "<matplotlib.axes._subplots.AxesSubplot at 0x7f1d502df128>"
            ]
          },
          "metadata": {
            "tags": []
          },
          "execution_count": 22
        },
        {
          "output_type": "display_data",
          "data": {
            "image/png": "[encoded data removed]",
            "text/plain": [
              "<Figure size 576x288 with 2 Axes>"
            ]
          },
          "metadata": {
            "tags": [],
            "needs_background": "light"
          }
        }
      ]
    },
    {
      "cell_type": "code",
      "metadata": {
        "colab": {
          "base_uri": "https://localhost:8080/",
          "height": 298
        },
        "id": "iLfVR_B0J1HW",
        "outputId": "365c150e-2b45-4161-a793-5fe3363318e8"
      },
      "source": [
        "ax = viginica_df['sepal length (cm)'].plot(kind='hist')\n",
        "viginica_df['sepal length (cm)'].plot(kind='kde', ax= ax, secondary_y = True, \n",
        "                                    title = 'setosa sepal length (cm) distribution',\n",
        "                                    figsize = (8,4))"
      ],
      "execution_count": 23,
      "outputs": [
        {
          "output_type": "execute_result",
          "data": {
            "text/plain": [
              "<matplotlib.axes._subplots.AxesSubplot at 0x7f1d501760b8>"
            ]
          },
          "metadata": {
            "tags": []
          },
          "execution_count": 23
        },
        {
          "output_type": "display_data",
          "data": {
            "image/png": "[encoded data removed]",
            "text/plain": [
              "<Figure size 576x288 with 2 Axes>"
            ]
          },
          "metadata": {
            "tags": [],
            "needs_background": "light"
          }
        }
      ]
    },
    {
      "cell_type": "code",
      "metadata": {
        "id": "BVZRtbvkTtOP"
      },
      "source": [
        "#데이터에 사용될 모든 특징들이 정규분포에 가까운 분포도를 보인다"
      ],
      "execution_count": 24,
      "outputs": []
    },
    {
      "cell_type": "code",
      "metadata": {
        "id": "1a6Kl4c6T9PD"
      },
      "source": [
        "X_train, X_test, y_train, y_test = train_test_split(dataset.data, dataset.target, test_size=0.2)"
      ],
      "execution_count": 25,
      "outputs": []
    },
    {
      "cell_type": "code",
      "metadata": {
        "colab": {
          "base_uri": "https://localhost:8080/"
        },
        "id": "wpwZVhd9UK1C",
        "outputId": "034490bd-731e-45df-ab8f-c674d57d692f"
      },
      "source": [
        "model = GaussianNB()\n",
        "model.fit(X_train, y_train)"
      ],
      "execution_count": 29,
      "outputs": [
        {
          "output_type": "execute_result",
          "data": {
            "text/plain": [
              "GaussianNB(priors=None, var_smoothing=1e-09)"
            ]
          },
          "metadata": {
            "tags": []
          },
          "execution_count": 29
        }
      ]
    },
    {
      "cell_type": "code",
      "metadata": {
        "colab": {
          "base_uri": "https://localhost:8080/"
        },
        "id": "-jzU7H5IUQDl",
        "outputId": "e3e722bc-3853-4856-8619-cd8748f3615d"
      },
      "source": [
        "expected = y_test\n",
        "predicted = model.predict(X_test)\n",
        "print(metrics.classification_report(y_test,predicted))"
      ],
      "execution_count": 30,
      "outputs": [
        {
          "output_type": "stream",
          "text": [
            "              precision    recall  f1-score   support\n",
            "\n",
            "           0       1.00      1.00      1.00         9\n",
            "           1       0.91      1.00      0.95        10\n",
            "           2       1.00      0.91      0.95        11\n",
            "\n",
            "    accuracy                           0.97        30\n",
            "   macro avg       0.97      0.97      0.97        30\n",
            "weighted avg       0.97      0.97      0.97        30\n",
            "\n"
          ],
          "name": "stdout"
        }
      ]
    },
    {
      "cell_type": "code",
      "metadata": {
        "colab": {
          "base_uri": "https://localhost:8080/"
        },
        "id": "s1AdvnZmUwJb",
        "outputId": "27e9d9a1-5de8-4263-ea80-e9697ff068b8"
      },
      "source": [
        "accuracy_score(y_test, predicted)"
      ],
      "execution_count": 31,
      "outputs": [
        {
          "output_type": "execute_result",
          "data": {
            "text/plain": [
              "0.9666666666666667"
            ]
          },
          "metadata": {
            "tags": []
          },
          "execution_count": 31
        }
      ]
    },
    {
      "cell_type": "markdown",
      "metadata": {
        "id": "b7BbNeIdtaLp"
      },
      "source": [
        "#베르누이 나이브 베이즈 실습"
      ]
    },
    {
      "cell_type": "code",
      "metadata": {
        "id": "FhS31fhLVHuN"
      },
      "source": [
        "#베르누이 나이브 베이즈를 활용한 스팸 분류\n",
        "import numpy as np\n",
        "import pandas as pd\n",
        "from sklearn.feature_extraction.text import CountVectorizer\n",
        "from sklearn.naive_bayes import BernoulliNB\n",
        "from sklearn.metrics import accuracy_score"
      ],
      "execution_count": 32,
      "outputs": []
    },
    {
      "cell_type": "code",
      "metadata": {
        "id": "kCuNGCLpV1OI"
      },
      "source": [
        "#dataset \n",
        "email_list = [\n",
        "                {'email title': 'free game only today', 'spam': True},\n",
        "                {'email title': 'cheapest flight deal', 'spam': True},\n",
        "                {'email title': 'limited time offer only today only today', 'spam': True},\n",
        "                {'email title': 'today meeting schedule', 'spam': False},\n",
        "                {'email title': 'your flight schedule attached', 'spam': False},\n",
        "                {'email title': 'your credit card statement', 'spam': False}\n",
        "             ]\n",
        "df = pd.DataFrame(email_list)"
      ],
      "execution_count": 33,
      "outputs": []
    },
    {
      "cell_type": "code",
      "metadata": {
        "colab": {
          "base_uri": "https://localhost:8080/",
          "height": 228
        },
        "id": "F7-2m3TOsopc",
        "outputId": "587dd24d-30bc-4730-a71c-591ede680e7f"
      },
      "source": [
        "df"
      ],
      "execution_count": 49,
      "outputs": [
        {
          "output_type": "execute_result",
          "data": {
            "text/html": [
              "<div>\n",
              "<style scoped>\n",
              "    .dataframe tbody tr th:only-of-type {\n",
              "        vertical-align: middle;\n",
              "    }\n",
              "\n",
              "    .dataframe tbody tr th {\n",
              "        vertical-align: top;\n",
              "    }\n",
              "\n",
              "    .dataframe thead th {\n",
              "        text-align: right;\n",
              "    }\n",
              "</style>\n",
              "<table border=\"1\" class=\"dataframe\">\n",
              "  <thead>\n",
              "    <tr style=\"text-align: right;\">\n",
              "      <th></th>\n",
              "      <th>email title</th>\n",
              "      <th>spam</th>\n",
              "      <th>label</th>\n",
              "    </tr>\n",
              "  </thead>\n",
              "  <tbody>\n",
              "    <tr>\n",
              "      <th>0</th>\n",
              "      <td>free game only today</td>\n",
              "      <td>True</td>\n",
              "      <td>1</td>\n",
              "    </tr>\n",
              "    <tr>\n",
              "      <th>1</th>\n",
              "      <td>cheapest flight deal</td>\n",
              "      <td>True</td>\n",
              "      <td>1</td>\n",
              "    </tr>\n",
              "    <tr>\n",
              "      <th>2</th>\n",
              "      <td>limited time offer only today only today</td>\n",
              "      <td>True</td>\n",
              "      <td>1</td>\n",
              "    </tr>\n",
              "    <tr>\n",
              "      <th>3</th>\n",
              "      <td>today meeting schedule</td>\n",
              "      <td>False</td>\n",
              "      <td>0</td>\n",
              "    </tr>\n",
              "    <tr>\n",
              "      <th>4</th>\n",
              "      <td>your flight schedule attached</td>\n",
              "      <td>False</td>\n",
              "      <td>0</td>\n",
              "    </tr>\n",
              "    <tr>\n",
              "      <th>5</th>\n",
              "      <td>your credit card statement</td>\n",
              "      <td>False</td>\n",
              "      <td>0</td>\n",
              "    </tr>\n",
              "  </tbody>\n",
              "</table>\n",
              "</div>"
            ],
            "text/plain": [
              "                                email title   spam  label\n",
              "0                      free game only today   True      1\n",
              "1                      cheapest flight deal   True      1\n",
              "2  limited time offer only today only today   True      1\n",
              "3                    today meeting schedule  False      0\n",
              "4             your flight schedule attached  False      0\n",
              "5                your credit card statement  False      0"
            ]
          },
          "metadata": {
            "tags": []
          },
          "execution_count": 49
        }
      ]
    },
    {
      "cell_type": "code",
      "metadata": {
        "id": "hQrQz29WWCW-"
      },
      "source": [
        "#나이브 베이즈 분류기는 숫자만 다루기 때문에 T/F를 1과 0으로 치환\n",
        "df['label'] = df['spam'].map({True:1, False:0})"
      ],
      "execution_count": 34,
      "outputs": []
    },
    {
      "cell_type": "code",
      "metadata": {
        "id": "mBNjCfuqWWAH"
      },
      "source": [
        "df_x =df['email title']\n",
        "df_y =df['label']"
      ],
      "execution_count": 37,
      "outputs": []
    },
    {
      "cell_type": "code",
      "metadata": {
        "id": "AXIu7AZOWYdR"
      },
      "source": [
        "#베르누이 나이브 베이즈의 입력 데이터는 고정된 크기의 벡터여야 한다. \n",
        "#사이킷런의 CountVectorizer를 이용하면 간편하게 특정 데이터 안의 모든 단어를 포함한 고정 길이 벡터를 만들 수 있다. \n",
        "cv = CountVectorizer(binary=True)\n",
        "x_traincv = cv.fit_transform(df_x)"
      ],
      "execution_count": 38,
      "outputs": []
    },
    {
      "cell_type": "code",
      "metadata": {
        "colab": {
          "base_uri": "https://localhost:8080/"
        },
        "id": "g49mCkkpnOcJ",
        "outputId": "36baade3-30a5-4014-d92f-9f1982c3a525"
      },
      "source": [
        "encoded_input=x_traincv.toarray()\n",
        "encoded_input"
      ],
      "execution_count": 39,
      "outputs": [
        {
          "output_type": "execute_result",
          "data": {
            "text/plain": [
              "array([[0, 0, 0, 0, 0, 0, 1, 1, 0, 0, 0, 1, 0, 0, 0, 1, 0],\n",
              "       [0, 0, 1, 0, 1, 1, 0, 0, 0, 0, 0, 0, 0, 0, 0, 0, 0],\n",
              "       [0, 0, 0, 0, 0, 0, 0, 0, 1, 0, 1, 1, 0, 0, 1, 1, 0],\n",
              "       [0, 0, 0, 0, 0, 0, 0, 0, 0, 1, 0, 0, 1, 0, 0, 1, 0],\n",
              "       [1, 0, 0, 0, 0, 1, 0, 0, 0, 0, 0, 0, 1, 0, 0, 0, 1],\n",
              "       [0, 1, 0, 1, 0, 0, 0, 0, 0, 0, 0, 0, 0, 1, 0, 0, 1]])"
            ]
          },
          "metadata": {
            "tags": []
          },
          "execution_count": 39
        }
      ]
    },
    {
      "cell_type": "code",
      "metadata": {
        "colab": {
          "base_uri": "https://localhost:8080/"
        },
        "id": "E6bhTWjmnVyA",
        "outputId": "086d88af-332d-4c1a-ba5c-d2dc2f30ea7f"
      },
      "source": [
        "#고정된 크기의 벡터\n",
        "print(cv.inverse_transform(encoded_input[0]))\n",
        "print(cv.inverse_transform(encoded_input[1]))"
      ],
      "execution_count": 42,
      "outputs": [
        {
          "output_type": "stream",
          "text": [
            "[array(['free', 'game', 'only', 'today'], dtype='<U9')]\n",
            "[array(['cheapest', 'deal', 'flight'], dtype='<U9')]\n"
          ],
          "name": "stdout"
        }
      ]
    },
    {
      "cell_type": "code",
      "metadata": {
        "colab": {
          "base_uri": "https://localhost:8080/"
        },
        "id": "1tkMqlAJoCcm",
        "outputId": "4f3eed39-8f0c-45c2-ef11-592859812454"
      },
      "source": [
        "cv.get_feature_names()"
      ],
      "execution_count": 43,
      "outputs": [
        {
          "output_type": "execute_result",
          "data": {
            "text/plain": [
              "['attached',\n",
              " 'card',\n",
              " 'cheapest',\n",
              " 'credit',\n",
              " 'deal',\n",
              " 'flight',\n",
              " 'free',\n",
              " 'game',\n",
              " 'limited',\n",
              " 'meeting',\n",
              " 'offer',\n",
              " 'only',\n",
              " 'schedule',\n",
              " 'statement',\n",
              " 'time',\n",
              " 'today',\n",
              " 'your']"
            ]
          },
          "metadata": {
            "tags": []
          },
          "execution_count": 43
        }
      ]
    },
    {
      "cell_type": "code",
      "metadata": {
        "id": "5mo_UpHhqfrb"
      },
      "source": [
        "#스무딩\n",
        "#학습데이터에 없던 단어가 실제 상황에서 나타나게 되면 확률이 0이 되어 스팸 분류가 힘들어 지는데 이런경우 학습 데이터에 없던 데이터가 출현해도\n",
        "#빈도수에 1을 더해서 확률이 0이 되는 현상을 방지"
      ],
      "execution_count": 44,
      "outputs": []
    },
    {
      "cell_type": "code",
      "metadata": {
        "colab": {
          "base_uri": "https://localhost:8080/",
          "height": 228
        },
        "id": "j_3ppNZ-sOep",
        "outputId": "65bec5e2-05b6-47b9-d454-acc039e75d09"
      },
      "source": [
        "df"
      ],
      "execution_count": 46,
      "outputs": [
        {
          "output_type": "execute_result",
          "data": {
            "text/html": [
              "<div>\n",
              "<style scoped>\n",
              "    .dataframe tbody tr th:only-of-type {\n",
              "        vertical-align: middle;\n",
              "    }\n",
              "\n",
              "    .dataframe tbody tr th {\n",
              "        vertical-align: top;\n",
              "    }\n",
              "\n",
              "    .dataframe thead th {\n",
              "        text-align: right;\n",
              "    }\n",
              "</style>\n",
              "<table border=\"1\" class=\"dataframe\">\n",
              "  <thead>\n",
              "    <tr style=\"text-align: right;\">\n",
              "      <th></th>\n",
              "      <th>email title</th>\n",
              "      <th>spam</th>\n",
              "      <th>label</th>\n",
              "    </tr>\n",
              "  </thead>\n",
              "  <tbody>\n",
              "    <tr>\n",
              "      <th>0</th>\n",
              "      <td>free game only today</td>\n",
              "      <td>True</td>\n",
              "      <td>1</td>\n",
              "    </tr>\n",
              "    <tr>\n",
              "      <th>1</th>\n",
              "      <td>cheapest flight deal</td>\n",
              "      <td>True</td>\n",
              "      <td>1</td>\n",
              "    </tr>\n",
              "    <tr>\n",
              "      <th>2</th>\n",
              "      <td>limited time offer only today only today</td>\n",
              "      <td>True</td>\n",
              "      <td>1</td>\n",
              "    </tr>\n",
              "    <tr>\n",
              "      <th>3</th>\n",
              "      <td>today meeting schedule</td>\n",
              "      <td>False</td>\n",
              "      <td>0</td>\n",
              "    </tr>\n",
              "    <tr>\n",
              "      <th>4</th>\n",
              "      <td>your flight schedule attached</td>\n",
              "      <td>False</td>\n",
              "      <td>0</td>\n",
              "    </tr>\n",
              "    <tr>\n",
              "      <th>5</th>\n",
              "      <td>your credit card statement</td>\n",
              "      <td>False</td>\n",
              "      <td>0</td>\n",
              "    </tr>\n",
              "  </tbody>\n",
              "</table>\n",
              "</div>"
            ],
            "text/plain": [
              "                                email title   spam  label\n",
              "0                      free game only today   True      1\n",
              "1                      cheapest flight deal   True      1\n",
              "2  limited time offer only today only today   True      1\n",
              "3                    today meeting schedule  False      0\n",
              "4             your flight schedule attached  False      0\n",
              "5                your credit card statement  False      0"
            ]
          },
          "metadata": {
            "tags": []
          },
          "execution_count": 46
        }
      ]
    },
    {
      "cell_type": "code",
      "metadata": {
        "colab": {
          "base_uri": "https://localhost:8080/"
        },
        "id": "D8-GM9lorZPx",
        "outputId": "fc72af32-b44d-4829-8c46-c1e808217672"
      },
      "source": [
        "bnb = BernoulliNB()\n",
        "y_train = df_y.astype('int')\n",
        "bnb.fit(x_traincv, y_train)"
      ],
      "execution_count": 56,
      "outputs": [
        {
          "output_type": "execute_result",
          "data": {
            "text/plain": [
              "BernoulliNB(alpha=1.0, binarize=0.0, class_prior=None, fit_prior=True)"
            ]
          },
          "metadata": {
            "tags": []
          },
          "execution_count": 56
        }
      ]
    },
    {
      "cell_type": "code",
      "metadata": {
        "id": "sCEiKeENsdOb"
      },
      "source": [
        "# test data\n",
        "test_email_list = [\n",
        "                {'email title': 'free flight offer', 'spam': True},\n",
        "                {'email title': 'hey traveler free flight deal', 'spam': True},\n",
        "                {'email title': 'limited free game offer', 'spam': True},\n",
        "                {'email title': 'today flight schedule', 'spam': False},\n",
        "                {'email title': 'your credit card attached', 'spam': False},\n",
        "                {'email title': 'free credit card offer only today', 'spam': False}\n",
        "             ]\n",
        "test_df = pd.DataFrame(test_email_list)\n",
        "test_df['label'] = test_df['spam'].map({True:1,False:0})\n",
        "test_x=test_df[\"email title\"]\n",
        "test_y=test_df[\"label\"]\n",
        "x_testcv=cv.transform(test_x)"
      ],
      "execution_count": 57,
      "outputs": []
    },
    {
      "cell_type": "code",
      "metadata": {
        "id": "mqwfriIgtDi3"
      },
      "source": [
        "predictions = bnb.predict(x_testcv)"
      ],
      "execution_count": 58,
      "outputs": []
    },
    {
      "cell_type": "code",
      "metadata": {
        "colab": {
          "base_uri": "https://localhost:8080/"
        },
        "id": "rVr7Ah5ftJjd",
        "outputId": "fa069729-c7b1-4144-e3f6-ee299fed896f"
      },
      "source": [
        "accuracy_score(test_y, predictions)"
      ],
      "execution_count": 60,
      "outputs": [
        {
          "output_type": "execute_result",
          "data": {
            "text/plain": [
              "0.8333333333333334"
            ]
          },
          "metadata": {
            "tags": []
          },
          "execution_count": 60
        }
      ]
    },
    {
      "cell_type": "markdown",
      "metadata": {
        "id": "OEzcj29itc-Q"
      },
      "source": [
        "#다항분포 나이브 베이즈 실습\n"
      ]
    },
    {
      "cell_type": "code",
      "metadata": {
        "id": "TSGB_cJJtLd2"
      },
      "source": [
        "#영화리뷰 긍정/부정\n",
        "import numpy as np \n",
        "import pandas as pd\n",
        "from sklearn.feature_extraction.text import CountVectorizer\n",
        "from sklearn.naive_bayes import MultinomialNB\n",
        "from sklearn.metrics import accuracy_score"
      ],
      "execution_count": 62,
      "outputs": []
    },
    {
      "cell_type": "code",
      "metadata": {
        "colab": {
          "base_uri": "https://localhost:8080/",
          "height": 348
        },
        "id": "sD8ybwkkti1D",
        "outputId": "cab0872d-6645-410a-9e5e-71f6388035d7"
      },
      "source": [
        "\n",
        "review_list = [\n",
        "                {'movie_review': 'this is great great movie. I will watch again', 'type': 'positive'},\n",
        "                {'movie_review': 'I like this movie', 'type': 'positive'},\n",
        "                {'movie_review': 'amazing movie in this year', 'type': 'positive'},\n",
        "                {'movie_review': 'cool my boyfriend also said the movie is cool', 'type': 'positive'},\n",
        "                {'movie_review': 'awesome of the awesome movie ever', 'type': 'positive'},\n",
        "                {'movie_review': 'shame I wasted money and time', 'type': 'negative'},\n",
        "                {'movie_review': 'regret on this move. I will never never what movie from this director', 'type': 'negative'},\n",
        "                {'movie_review': 'I do not like this movie', 'type': 'negative'},\n",
        "                {'movie_review': 'I do not like actors in this movie', 'type': 'negative'},\n",
        "                {'movie_review': 'boring boring sleeping movie', 'type': 'negative'}\n",
        "             ]\n",
        "df = pd.DataFrame(review_list)\n",
        "df"
      ],
      "execution_count": 63,
      "outputs": [
        {
          "output_type": "execute_result",
          "data": {
            "text/html": [
              "<div>\n",
              "<style scoped>\n",
              "    .dataframe tbody tr th:only-of-type {\n",
              "        vertical-align: middle;\n",
              "    }\n",
              "\n",
              "    .dataframe tbody tr th {\n",
              "        vertical-align: top;\n",
              "    }\n",
              "\n",
              "    .dataframe thead th {\n",
              "        text-align: right;\n",
              "    }\n",
              "</style>\n",
              "<table border=\"1\" class=\"dataframe\">\n",
              "  <thead>\n",
              "    <tr style=\"text-align: right;\">\n",
              "      <th></th>\n",
              "      <th>movie_review</th>\n",
              "      <th>type</th>\n",
              "    </tr>\n",
              "  </thead>\n",
              "  <tbody>\n",
              "    <tr>\n",
              "      <th>0</th>\n",
              "      <td>this is great great movie. I will watch again</td>\n",
              "      <td>positive</td>\n",
              "    </tr>\n",
              "    <tr>\n",
              "      <th>1</th>\n",
              "      <td>I like this movie</td>\n",
              "      <td>positive</td>\n",
              "    </tr>\n",
              "    <tr>\n",
              "      <th>2</th>\n",
              "      <td>amazing movie in this year</td>\n",
              "      <td>positive</td>\n",
              "    </tr>\n",
              "    <tr>\n",
              "      <th>3</th>\n",
              "      <td>cool my boyfriend also said the movie is cool</td>\n",
              "      <td>positive</td>\n",
              "    </tr>\n",
              "    <tr>\n",
              "      <th>4</th>\n",
              "      <td>awesome of the awesome movie ever</td>\n",
              "      <td>positive</td>\n",
              "    </tr>\n",
              "    <tr>\n",
              "      <th>5</th>\n",
              "      <td>shame I wasted money and time</td>\n",
              "      <td>negative</td>\n",
              "    </tr>\n",
              "    <tr>\n",
              "      <th>6</th>\n",
              "      <td>regret on this move. I will never never what m...</td>\n",
              "      <td>negative</td>\n",
              "    </tr>\n",
              "    <tr>\n",
              "      <th>7</th>\n",
              "      <td>I do not like this movie</td>\n",
              "      <td>negative</td>\n",
              "    </tr>\n",
              "    <tr>\n",
              "      <th>8</th>\n",
              "      <td>I do not like actors in this movie</td>\n",
              "      <td>negative</td>\n",
              "    </tr>\n",
              "    <tr>\n",
              "      <th>9</th>\n",
              "      <td>boring boring sleeping movie</td>\n",
              "      <td>negative</td>\n",
              "    </tr>\n",
              "  </tbody>\n",
              "</table>\n",
              "</div>"
            ],
            "text/plain": [
              "                                        movie_review      type\n",
              "0      this is great great movie. I will watch again  positive\n",
              "1                                  I like this movie  positive\n",
              "2                         amazing movie in this year  positive\n",
              "3      cool my boyfriend also said the movie is cool  positive\n",
              "4                  awesome of the awesome movie ever  positive\n",
              "5                      shame I wasted money and time  negative\n",
              "6  regret on this move. I will never never what m...  negative\n",
              "7                           I do not like this movie  negative\n",
              "8                 I do not like actors in this movie  negative\n",
              "9                       boring boring sleeping movie  negative"
            ]
          },
          "metadata": {
            "tags": []
          },
          "execution_count": 63
        }
      ]
    },
    {
      "cell_type": "code",
      "metadata": {
        "id": "WK0FhlIDt7cX"
      },
      "source": [
        "df['label']= df['type'].map({'positive' :1, 'negative':0})"
      ],
      "execution_count": 64,
      "outputs": []
    },
    {
      "cell_type": "code",
      "metadata": {
        "colab": {
          "base_uri": "https://localhost:8080/",
          "height": 198
        },
        "id": "44Hj50GLuJi7",
        "outputId": "671c2478-1ece-4ab6-9889-fc7a07901d9f"
      },
      "source": [
        "df.head()"
      ],
      "execution_count": 66,
      "outputs": [
        {
          "output_type": "execute_result",
          "data": {
            "text/html": [
              "<div>\n",
              "<style scoped>\n",
              "    .dataframe tbody tr th:only-of-type {\n",
              "        vertical-align: middle;\n",
              "    }\n",
              "\n",
              "    .dataframe tbody tr th {\n",
              "        vertical-align: top;\n",
              "    }\n",
              "\n",
              "    .dataframe thead th {\n",
              "        text-align: right;\n",
              "    }\n",
              "</style>\n",
              "<table border=\"1\" class=\"dataframe\">\n",
              "  <thead>\n",
              "    <tr style=\"text-align: right;\">\n",
              "      <th></th>\n",
              "      <th>movie_review</th>\n",
              "      <th>type</th>\n",
              "      <th>label</th>\n",
              "    </tr>\n",
              "  </thead>\n",
              "  <tbody>\n",
              "    <tr>\n",
              "      <th>0</th>\n",
              "      <td>this is great great movie. I will watch again</td>\n",
              "      <td>positive</td>\n",
              "      <td>1</td>\n",
              "    </tr>\n",
              "    <tr>\n",
              "      <th>1</th>\n",
              "      <td>I like this movie</td>\n",
              "      <td>positive</td>\n",
              "      <td>1</td>\n",
              "    </tr>\n",
              "    <tr>\n",
              "      <th>2</th>\n",
              "      <td>amazing movie in this year</td>\n",
              "      <td>positive</td>\n",
              "      <td>1</td>\n",
              "    </tr>\n",
              "    <tr>\n",
              "      <th>3</th>\n",
              "      <td>cool my boyfriend also said the movie is cool</td>\n",
              "      <td>positive</td>\n",
              "      <td>1</td>\n",
              "    </tr>\n",
              "    <tr>\n",
              "      <th>4</th>\n",
              "      <td>awesome of the awesome movie ever</td>\n",
              "      <td>positive</td>\n",
              "      <td>1</td>\n",
              "    </tr>\n",
              "  </tbody>\n",
              "</table>\n",
              "</div>"
            ],
            "text/plain": [
              "                                    movie_review      type  label\n",
              "0  this is great great movie. I will watch again  positive      1\n",
              "1                              I like this movie  positive      1\n",
              "2                     amazing movie in this year  positive      1\n",
              "3  cool my boyfriend also said the movie is cool  positive      1\n",
              "4              awesome of the awesome movie ever  positive      1"
            ]
          },
          "metadata": {
            "tags": []
          },
          "execution_count": 66
        }
      ]
    },
    {
      "cell_type": "code",
      "metadata": {
        "id": "XGwt63j6uKNr"
      },
      "source": [
        "df_x = df['movie_review']\n",
        "df_y = df['label']"
      ],
      "execution_count": 67,
      "outputs": []
    },
    {
      "cell_type": "code",
      "metadata": {
        "id": "_tsm7_AguTE3"
      },
      "source": [
        "cv = CountVectorizer()\n",
        "x_traincv = cv.fit_transform(df_x)\n",
        "encoded_input = x_traincv.toarray()"
      ],
      "execution_count": 69,
      "outputs": []
    },
    {
      "cell_type": "code",
      "metadata": {
        "colab": {
          "base_uri": "https://localhost:8080/"
        },
        "id": "_BJdEoKUvNW4",
        "outputId": "9a69f763-1ae9-4fbd-f850-8ada8bbb96f0"
      },
      "source": [
        "encoded_input"
      ],
      "execution_count": 74,
      "outputs": [
        {
          "output_type": "execute_result",
          "data": {
            "text/plain": [
              "array([[0, 1, 0, 0, 0, 0, 0, 0, 0, 0, 0, 0, 0, 2, 0, 1, 0, 0, 0, 1, 0, 0,\n",
              "        0, 0, 0, 0, 0, 0, 0, 0, 1, 0, 0, 1, 0, 1, 0],\n",
              "       [0, 0, 0, 0, 0, 0, 0, 0, 0, 0, 0, 0, 0, 0, 0, 0, 1, 0, 0, 1, 0, 0,\n",
              "        0, 0, 0, 0, 0, 0, 0, 0, 1, 0, 0, 0, 0, 0, 0],\n",
              "       [0, 0, 0, 1, 0, 0, 0, 0, 0, 0, 0, 0, 0, 0, 1, 0, 0, 0, 0, 1, 0, 0,\n",
              "        0, 0, 0, 0, 0, 0, 0, 0, 1, 0, 0, 0, 0, 0, 1],\n",
              "       [0, 0, 1, 0, 0, 0, 0, 1, 2, 0, 0, 0, 0, 0, 0, 1, 0, 0, 0, 1, 1, 0,\n",
              "        0, 0, 0, 0, 1, 0, 0, 1, 0, 0, 0, 0, 0, 0, 0],\n",
              "       [0, 0, 0, 0, 0, 2, 0, 0, 0, 0, 0, 1, 0, 0, 0, 0, 0, 0, 0, 1, 0, 0,\n",
              "        0, 1, 0, 0, 0, 0, 0, 1, 0, 0, 0, 0, 0, 0, 0],\n",
              "       [0, 0, 0, 0, 1, 0, 0, 0, 0, 0, 0, 0, 0, 0, 0, 0, 0, 1, 0, 0, 0, 0,\n",
              "        0, 0, 0, 0, 0, 1, 0, 0, 0, 1, 1, 0, 0, 0, 0],\n",
              "       [0, 0, 0, 0, 0, 0, 0, 0, 0, 1, 0, 0, 1, 0, 0, 0, 0, 0, 1, 1, 0, 2,\n",
              "        0, 0, 1, 1, 0, 0, 0, 0, 2, 0, 0, 0, 1, 1, 0],\n",
              "       [0, 0, 0, 0, 0, 0, 0, 0, 0, 0, 1, 0, 0, 0, 0, 0, 1, 0, 0, 1, 0, 0,\n",
              "        1, 0, 0, 0, 0, 0, 0, 0, 1, 0, 0, 0, 0, 0, 0],\n",
              "       [1, 0, 0, 0, 0, 0, 0, 0, 0, 0, 1, 0, 0, 0, 1, 0, 1, 0, 0, 1, 0, 0,\n",
              "        1, 0, 0, 0, 0, 0, 0, 0, 1, 0, 0, 0, 0, 0, 0],\n",
              "       [0, 0, 0, 0, 0, 0, 2, 0, 0, 0, 0, 0, 0, 0, 0, 0, 0, 0, 0, 1, 0, 0,\n",
              "        0, 0, 0, 0, 0, 0, 1, 0, 0, 0, 0, 0, 0, 0, 0]])"
            ]
          },
          "metadata": {
            "tags": []
          },
          "execution_count": 74
        }
      ]
    },
    {
      "cell_type": "code",
      "metadata": {
        "colab": {
          "base_uri": "https://localhost:8080/"
        },
        "id": "elJ6up7TviJe",
        "outputId": "a0720d9a-6e86-47c9-fd7e-5b7db7fbdf17"
      },
      "source": [
        "cv.inverse_transform(encoded_input[0])"
      ],
      "execution_count": 76,
      "outputs": [
        {
          "output_type": "execute_result",
          "data": {
            "text/plain": [
              "[array(['again', 'great', 'is', 'movie', 'this', 'watch', 'will'],\n",
              "       dtype='<U9')]"
            ]
          },
          "metadata": {
            "tags": []
          },
          "execution_count": 76
        }
      ]
    },
    {
      "cell_type": "code",
      "metadata": {
        "id": "VpyCHEm2vl9O"
      },
      "source": [
        "# cv.get_feature_names()"
      ],
      "execution_count": 78,
      "outputs": []
    },
    {
      "cell_type": "code",
      "metadata": {
        "colab": {
          "base_uri": "https://localhost:8080/"
        },
        "id": "vDqxd4NdvuFF",
        "outputId": "774faf3f-2911-421e-962c-ffc03433b30a"
      },
      "source": [
        "mnb = MultinomialNB()\n",
        "y_train = df_y.astype('int')\n",
        "mnb.fit(x_traincv,y_train)"
      ],
      "execution_count": 79,
      "outputs": [
        {
          "output_type": "execute_result",
          "data": {
            "text/plain": [
              "MultinomialNB(alpha=1.0, class_prior=None, fit_prior=True)"
            ]
          },
          "metadata": {
            "tags": []
          },
          "execution_count": 79
        }
      ]
    },
    {
      "cell_type": "code",
      "metadata": {
        "id": "57D0Z9tXv-EY"
      },
      "source": [
        "# test data\n",
        "test_feedback_list = [\n",
        "                {'movie_review': 'great great great movie ever', 'type': 'positive'},\n",
        "                {'movie_review': 'I like this amazing movie', 'type': 'positive'},\n",
        "                {'movie_review': 'my boyfriend said great movie ever', 'type': 'positive'},\n",
        "                {'movie_review': 'cool cool cool', 'type': 'positive'},\n",
        "                {'movie_review': 'awesome boyfriend said cool movie ever', 'type': 'positive'},\n",
        "                {'movie_review': 'shame shame shame', 'type': 'negative'},\n",
        "                {'movie_review': 'awesome director shame movie boring movie', 'type': 'negative'},\n",
        "                {'movie_review': 'do not like this movie', 'type': 'negative'},\n",
        "                {'movie_review': 'I do not like this boring movie', 'type': 'negative'},\n",
        "                {'movie_review': 'aweful terrible boring movie', 'type': 'negative'}\n",
        "             ]\n",
        "test_df = pd.DataFrame(test_feedback_list)\n",
        "test_df['label'] = test_df['type'].map({\"positive\":1,\"negative\":0})\n",
        "test_x=test_df[\"movie_review\"]\n",
        "test_y=test_df[\"label\"]"
      ],
      "execution_count": 80,
      "outputs": []
    },
    {
      "cell_type": "code",
      "metadata": {
        "id": "pekReMxswHxF"
      },
      "source": [
        "x_testcv = cv.transform(test_x)\n",
        "predictions = mnb.predict(x_testcv)"
      ],
      "execution_count": 81,
      "outputs": []
    },
    {
      "cell_type": "code",
      "metadata": {
        "colab": {
          "base_uri": "https://localhost:8080/"
        },
        "id": "eZObRYSEwQzk",
        "outputId": "d992c3c4-0155-42ec-f48c-cd46aca7d4aa"
      },
      "source": [
        "accuracy_score(test_y, predictions)"
      ],
      "execution_count": 82,
      "outputs": [
        {
          "output_type": "execute_result",
          "data": {
            "text/plain": [
              "1.0"
            ]
          },
          "metadata": {
            "tags": []
          },
          "execution_count": 82
        }
      ]
    }
  ]
}