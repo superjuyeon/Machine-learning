{
 "metadata": {
  "language_info": {
   "codemirror_mode": {
    "name": "ipython",
    "version": 3
   },
   "file_extension": ".py",
   "mimetype": "text/x-python",
   "name": "python",
   "nbconvert_exporter": "python",
   "pygments_lexer": "ipython3",
   "version": "3.8.5-final"
  },
  "orig_nbformat": 2,
  "kernelspec": {
   "name": "python3",
   "display_name": "Python 3",
   "language": "python"
  }
 },
 "nbformat": 4,
 "nbformat_minor": 2,
 "cells": [
  {
   "cell_type": "code",
   "execution_count": 16,
   "metadata": {},
   "outputs": [],
   "source": [
    "from sklearn.model_selection import GridSearchCV   #그리드 서치\n",
    "from sklearn.metrics import classification_report\n",
    "from sklearn.metrics import accuracy_score\n",
    "from sklearn.svm import SVC \n",
    "from sklearn.model_selection import train_test_split\n",
    "import numpy as np\n",
    "import pandas as pd"
   ]
  },
  {
   "cell_type": "code",
   "execution_count": 17,
   "metadata": {},
   "outputs": [],
   "source": [
    "df = pd.read_csv('https://raw.githubusercontent.com/wikibook/machine-learning/2.0/data/csv/basketball_stat.csv')\n",
    "\n",
    "train, test = train_test_split(df, test_size=0.2)"
   ]
  },
  {
   "cell_type": "code",
   "execution_count": 21,
   "metadata": {},
   "outputs": [
    {
     "output_type": "stream",
     "name": "stdout",
     "text": [
      "{'C': 0.1, 'gamma': 1, 'kernel': 'rbf'}\n"
     ]
    }
   ],
   "source": [
    "def svc_param_selection(X,y,nfolds):\n",
    "    svm_parameters=[\n",
    "        {'kernel':['rbf'],\n",
    "        'gamma':[0.00001,0.0001,0.001,0.01,0.1,1],\n",
    "        'C':[0.01,0.1,1,10,100,1000]}\n",
    "    ]\n",
    "\n",
    "    #사이킷런에서 제공하는 GridSearchCV를 사용해 최적의 파라미터를 구함\n",
    "    clf = GridSearchCV(SVC(),svm_parameters, cv=10)\n",
    "    clf.fit(X_train,y_train.values.ravel())\n",
    "    print(clf.best_params_)\n",
    "\n",
    "    return clf \n",
    "\n",
    "#3점슛과 블로킹 횟수를 학습 데이터로 사용 \n",
    "X_train = train[['3P','BLK']]\n",
    "\n",
    "#농구선수 포지션을 예측값으로 사용 \n",
    "y_train = train[['Pos']]\n",
    "\n",
    "#최적의 파라미터로 학습된 모델을 clf로 지정\n",
    "clf = svc_param_selection(X_train, y_train.values.ravel(),10)"
   ]
  },
  {
   "cell_type": "code",
   "execution_count": null,
   "metadata": {},
   "outputs": [],
   "source": [
    "()#결정 경계선 시각화 \n",
    "#시각화할 비용 후보들을 저장\n",
    "C_canditates = []\n",
    "C_canditates.append(clf.best_params_['C']*0.01)\n",
    "C_canditates.append(clf.best_params_['C'])\n",
    "C_canditates.append(clf.best_params_['C']*100)\n",
    "\n",
    "#시각화 할 감마 후보들을 저장\n",
    "gamma_candidates = []\n",
    "gamma_candidates.append(clf.best_params_['gamma']*0.01)\n",
    "gamma_candidates.append(clf.best_params_['gamma'])\n",
    "gamma_candidates.append(clf.best_params_['gamma']*100)\n",
    "\n",
    "#3점슛과 블로킹 횟수로 학습\n",
    "X = train[['3P', 'BLK']]\n",
    "#농구선수 포지션을 학습모델의 분류값으로 사용\n",
    "Y = train['Pos'].tolist()\n",
    "\n",
    "#시각화를 위한 센터(C)와 슈팅가드(SG)를 숫자로 표현\n",
    "position = []\n",
    "for gt in Y :\n",
    "    if gt == 'C':\n",
    "        position.append(0)\n",
    "    else:\n",
    "        position.append(1)\n",
    "\n",
    "Classifiers = []\n",
    "\n",
    "# 파라미터 후보들을조합해서 학습된 모델들을 저장\n",
    "for C in C_canditates:\n",
    "    for gamma in gamma_candidates:\n",
    "        clf = SVC(C=C, gamma=gamma)\n",
    "        clf.fit(X,Y)\n",
    "        Classifiers.append((C,gamma,clf))\n",
    "\n",
    "#각 모델을 시각화\n",
    "plt. figure(figsize=(18,18))\n",
    "xx,yy = np.meshgrid(np.linespace(0,4,100), np.linspace(0,4,100))\n",
    "\n",
    "for (k,(C,gamma,clf)) in enumerate(Classifiers):\n",
    "    Z = clf.decision_function(np.c_p[xx.ravel(),yy.ravel()])\n",
    "    Z = Z.reshape(xx.shape)\n",
    "\n",
    "    plt.subplot(len(C_canditates),len(gamma_candidates),k+1)\n",
    "    plt.title('gamma = 10^%d, C = 10^%d' %(np.log10(gamma), np.log10(C)), size = 'medium')\n",
    "\n",
    "    plt.pcolormesh(xx,yy, -Z, cmap=plt.cm.RdBu)"
   ]
  }
 ]
}