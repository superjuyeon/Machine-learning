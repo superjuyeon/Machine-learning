{
  "nbformat": 4,
  "nbformat_minor": 0,
  "metadata": {
    "colab": {
      "name": "decision_tree.ipynb",
      "provenance": []
    },
    "kernelspec": {
      "name": "python3",
      "display_name": "Python 3"
    }
  },
  "cells": [
    {
      "cell_type": "code",
      "metadata": {
        "id": "7bfRiZcfM68p"
      },
      "source": [
        "import pandas as pd\n",
        "import matplotlib.pyplot as plt\n",
        "import seaborn as sns \n",
        "%matplotlib inline"
      ],
      "execution_count": 11,
      "outputs": []
    },
    {
      "cell_type": "code",
      "metadata": {
        "id": "C-C5Xw4tM_QR"
      },
      "source": [
        "#train data load\n",
        "district_dict_list = [\n",
        "            {'district': 'Gangseo-gu', 'latitude': 37.551000, 'longitude': 126.849500, 'label':'Gangseo'},\n",
        "            {'district': 'Yangcheon-gu', 'latitude': 37.52424, 'longitude': 126.855396, 'label':'Gangseo'},\n",
        "            {'district': 'Guro-gu', 'latitude': 37.4954, 'longitude': 126.8874, 'label':'Gangseo'},\n",
        "            {'district': 'Geumcheon-gu', 'latitude': 37.4519, 'longitude': 126.9020, 'label':'Gangseo'},\n",
        "            {'district': 'Mapo-gu', 'latitude': 37.560229, 'longitude': 126.908728, 'label':'Gangseo'},\n",
        "            \n",
        "            {'district': 'Gwanak-gu', 'latitude': 37.487517, 'longitude': 126.915065, 'label':'Gangnam'},\n",
        "            {'district': 'Dongjak-gu', 'latitude': 37.5124, 'longitude': 126.9393, 'label':'Gangnam'},\n",
        "            {'district': 'Seocho-gu', 'latitude': 37.4837, 'longitude': 127.0324, 'label':'Gangnam'},\n",
        "            {'district': 'Gangnam-gu', 'latitude': 37.5172, 'longitude': 127.0473, 'label':'Gangnam'},\n",
        "            {'district': 'Songpa-gu', 'latitude': 37.503510, 'longitude': 127.117898, 'label':'Gangnam'},\n",
        "   \n",
        "            {'district': 'Yongsan-gu', 'latitude': 37.532561, 'longitude': 127.008605, 'label':'Gangbuk'},\n",
        "            {'district': 'Jongro-gu', 'latitude': 37.5730, 'longitude': 126.9794, 'label':'Gangbuk'},\n",
        "            {'district': 'Seongbuk-gu', 'latitude': 37.603979, 'longitude': 127.056344, 'label':'Gangbuk'},\n",
        "            {'district': 'Nowon-gu', 'latitude': 37.6542, 'longitude': 127.0568, 'label':'Gangbuk'},\n",
        "            {'district': 'Dobong-gu', 'latitude': 37.6688, 'longitude': 127.0471, 'label':'Gangbuk'},\n",
        "     \n",
        "            {'district': 'Seongdong-gu', 'latitude': 37.557340, 'longitude': 127.041667, 'label':'Gangdong'},\n",
        "            {'district': 'Dongdaemun-gu', 'latitude': 37.575759, 'longitude': 127.025288, 'label':'Gangdong'},\n",
        "            {'district': 'Gwangjin-gu', 'latitude': 37.557562, 'longitude': 127.083467, 'label':'Gangdong'},\n",
        "            {'district': 'Gangdong-gu', 'latitude': 37.554194, 'longitude': 127.151405, 'label':'Gangdong'},\n",
        "            {'district': 'Jungrang-gu', 'latitude': 37.593684, 'longitude': 127.090384, 'label':'Gangdong'}\n",
        "         ]\n",
        "\n",
        "train_df = pd.DataFrame(district_dict_list)\n",
        "train_df = train_df[['district', 'longitude', 'latitude', 'label']]"
      ],
      "execution_count": 12,
      "outputs": []
    },
    {
      "cell_type": "code",
      "metadata": {
        "id": "-DDWJQ52NAgE"
      },
      "source": [
        "#test data load\n",
        "dong_dict_list = [\n",
        "            {'dong': 'Gaebong-dong', 'latitude': 37.489853, 'longitude': 126.854547, 'label':'Gangseo'},\n",
        "            {'dong': 'Gochuk-dong', 'latitude': 37.501394, 'longitude': 126.859245, 'label':'Gangseo'},\n",
        "            {'dong': 'Hwagok-dong', 'latitude': 37.537759, 'longitude': 126.847951, 'label':'Gangseo'},\n",
        "            {'dong': 'Banghwa-dong', 'latitude': 37.575817, 'longitude': 126.815719, 'label':'Gangseo'},\n",
        "            {'dong': 'Sangam-dong', 'latitude': 37.577039, 'longitude': 126.891620, 'label':'Gangseo'},\n",
        "            \n",
        "            {'dong': 'Nonhyun-dong', 'latitude': 37.508838, 'longitude': 127.030720, 'label':'Gangnam'},\n",
        "            {'dong': 'Daechi-dong', 'latitude': 37.501163, 'longitude': 127.057193, 'label':'Gangnam'},\n",
        "            {'dong': 'Seocho-dong', 'latitude': 37.486401, 'longitude': 127.018281, 'label':'Gangnam'},\n",
        "            {'dong': 'Bangbae-dong', 'latitude': 37.483279, 'longitude': 126.988194, 'label':'Gangnam'},\n",
        "            {'dong': 'Dogok-dong', 'latitude': 37.492896, 'longitude': 127.043159, 'label':'Gangnam'},\n",
        "    \n",
        "            {'dong': 'Pyoungchang-dong', 'latitude': 37.612129, 'longitude': 126.975724, 'label':'Gangbuk'},\n",
        "            {'dong': 'Sungbuk-dong', 'latitude': 37.597916, 'longitude': 126.998067, 'label':'Gangbuk'},\n",
        "            {'dong': 'Ssangmoon-dong', 'latitude': 37.648094, 'longitude': 127.030421, 'label':'Gangbuk'},\n",
        "            {'dong': 'Ui-dong', 'latitude': 37.648446, 'longitude': 127.011396, 'label':'Gangbuk'},\n",
        "            {'dong': 'Samcheong-dong', 'latitude': 37.591109, 'longitude': 126.980488, 'label':'Gangbuk'},\n",
        "    \n",
        "            {'dong': 'Hwayang-dong', 'latitude': 37.544234, 'longitude': 127.071648, 'label':'Gangdong'},\n",
        "            {'dong': 'Gui-dong', 'latitude': 37.543757, 'longitude': 127.086803, 'label':'Gangdong'},\n",
        "            {'dong': 'Neung-dong', 'latitude': 37.553102, 'longitude': 127.080248, 'label':'Gangdong'},\n",
        "            {'dong': 'Amsa-dong', 'latitude': 37.552370, 'longitude': 127.127124, 'label':'Gangdong'},\n",
        "            {'dong': 'Chunho-dong', 'latitude': 37.547436, 'longitude': 127.137382, 'label':'Gangdong'}\n",
        "         ]\n",
        "\n",
        "test_df = pd.DataFrame(dong_dict_list)\n",
        "test_df = test_df[['dong', 'longitude', 'latitude', 'label']]"
      ],
      "execution_count": 13,
      "outputs": []
    },
    {
      "cell_type": "code",
      "metadata": {
        "colab": {
          "base_uri": "https://localhost:8080/"
        },
        "id": "lSqx5CHgNCU9",
        "outputId": "5efc9110-b186-4d43-f64e-d73793c9ac9f"
      },
      "source": [
        "train_df.label.value_counts()"
      ],
      "execution_count": 14,
      "outputs": [
        {
          "output_type": "execute_result",
          "data": {
            "text/plain": [
              "Gangdong    5\n",
              "Gangseo     5\n",
              "Gangnam     5\n",
              "Gangbuk     5\n",
              "Name: label, dtype: int64"
            ]
          },
          "metadata": {
            "tags": []
          },
          "execution_count": 14
        }
      ]
    },
    {
      "cell_type": "code",
      "metadata": {
        "colab": {
          "base_uri": "https://localhost:8080/"
        },
        "id": "TyJGBnvTNEHD",
        "outputId": "05c9601d-6732-4174-c0b9-7577d75b424d"
      },
      "source": [
        "test_df.label.value_counts()"
      ],
      "execution_count": 15,
      "outputs": [
        {
          "output_type": "execute_result",
          "data": {
            "text/plain": [
              "Gangdong    5\n",
              "Gangseo     5\n",
              "Gangnam     5\n",
              "Gangbuk     5\n",
              "Name: label, dtype: int64"
            ]
          },
          "metadata": {
            "tags": []
          },
          "execution_count": 15
        }
      ]
    },
    {
      "cell_type": "code",
      "metadata": {
        "colab": {
          "base_uri": "https://localhost:8080/",
          "height": 204
        },
        "id": "yv6S6LHpNFUu",
        "outputId": "963a8c31-217f-4cb5-9eae-cd431e364e77"
      },
      "source": [
        "#데이터 시각화\n",
        "train_df.head()"
      ],
      "execution_count": 16,
      "outputs": [
        {
          "output_type": "execute_result",
          "data": {
            "text/html": [
              "<div>\n",
              "<style scoped>\n",
              "    .dataframe tbody tr th:only-of-type {\n",
              "        vertical-align: middle;\n",
              "    }\n",
              "\n",
              "    .dataframe tbody tr th {\n",
              "        vertical-align: top;\n",
              "    }\n",
              "\n",
              "    .dataframe thead th {\n",
              "        text-align: right;\n",
              "    }\n",
              "</style>\n",
              "<table border=\"1\" class=\"dataframe\">\n",
              "  <thead>\n",
              "    <tr style=\"text-align: right;\">\n",
              "      <th></th>\n",
              "      <th>district</th>\n",
              "      <th>longitude</th>\n",
              "      <th>latitude</th>\n",
              "      <th>label</th>\n",
              "    </tr>\n",
              "  </thead>\n",
              "  <tbody>\n",
              "    <tr>\n",
              "      <th>0</th>\n",
              "      <td>Gangseo-gu</td>\n",
              "      <td>126.849500</td>\n",
              "      <td>37.551000</td>\n",
              "      <td>Gangseo</td>\n",
              "    </tr>\n",
              "    <tr>\n",
              "      <th>1</th>\n",
              "      <td>Yangcheon-gu</td>\n",
              "      <td>126.855396</td>\n",
              "      <td>37.524240</td>\n",
              "      <td>Gangseo</td>\n",
              "    </tr>\n",
              "    <tr>\n",
              "      <th>2</th>\n",
              "      <td>Guro-gu</td>\n",
              "      <td>126.887400</td>\n",
              "      <td>37.495400</td>\n",
              "      <td>Gangseo</td>\n",
              "    </tr>\n",
              "    <tr>\n",
              "      <th>3</th>\n",
              "      <td>Geumcheon-gu</td>\n",
              "      <td>126.902000</td>\n",
              "      <td>37.451900</td>\n",
              "      <td>Gangseo</td>\n",
              "    </tr>\n",
              "    <tr>\n",
              "      <th>4</th>\n",
              "      <td>Mapo-gu</td>\n",
              "      <td>126.908728</td>\n",
              "      <td>37.560229</td>\n",
              "      <td>Gangseo</td>\n",
              "    </tr>\n",
              "  </tbody>\n",
              "</table>\n",
              "</div>"
            ],
            "text/plain": [
              "       district   longitude   latitude    label\n",
              "0    Gangseo-gu  126.849500  37.551000  Gangseo\n",
              "1  Yangcheon-gu  126.855396  37.524240  Gangseo\n",
              "2       Guro-gu  126.887400  37.495400  Gangseo\n",
              "3  Geumcheon-gu  126.902000  37.451900  Gangseo\n",
              "4       Mapo-gu  126.908728  37.560229  Gangseo"
            ]
          },
          "metadata": {
            "tags": []
          },
          "execution_count": 16
        }
      ]
    },
    {
      "cell_type": "code",
      "metadata": {
        "colab": {
          "base_uri": "https://localhost:8080/",
          "height": 470
        },
        "id": "29_3LqFgNGwU",
        "outputId": "2491a0e1-508f-484c-992d-5c59738e3339"
      },
      "source": [
        "sns.lmplot('longitude','latitude', data= train_df, fit_reg=False, #fit_reg = line\n",
        "scatter_kws = {'s':150}, # 점의 크기\n",
        "markers=['o','x','+','*'],\n",
        "hue = 'label') #hue는 markers를 나눌 기준\n",
        "#title\n",
        "plt.title('district visualization in 2d plane')"
      ],
      "execution_count": 17,
      "outputs": [
        {
          "output_type": "stream",
          "text": [
            "/usr/local/lib/python3.6/dist-packages/seaborn/_decorators.py:43: FutureWarning: Pass the following variables as keyword args: x, y. From version 0.12, the only valid positional argument will be `data`, and passing other arguments without an explicit keyword will result in an error or misinterpretation.\n",
            "  FutureWarning\n"
          ],
          "name": "stderr"
        },
        {
          "output_type": "execute_result",
          "data": {
            "text/plain": [
              "Text(0.5, 1.0, 'district visualization in 2d plane')"
            ]
          },
          "metadata": {
            "tags": []
          },
          "execution_count": 17
        },
        {
          "output_type": "display_data",
          "data": {
            "image/png": "[encoded data removed]",
            "text/plain": [
              "<Figure size 447.75x360 with 1 Axes>"
            ]
          },
          "metadata": {
            "tags": [],
            "needs_background": "light"
          }
        }
      ]
    },
    {
      "cell_type": "code",
      "metadata": {
        "id": "AOdVA52KNI2v"
      },
      "source": [
        "#학습 및 테스트 데이터에 필요없는 특징 제거 \n",
        "train_df.drop(['district'], axis=1, inplace=True)\n",
        "test_df.drop(['dong'], axis=1, inplace=True)\n",
        "\n",
        "X_train = train_df[['longitude', 'latitude']]\n",
        "y_train = train_df[['label']]\n",
        "\n",
        "X_test = test_df[['longitude', 'latitude']]\n",
        "y_test = test_df[['label']]"
      ],
      "execution_count": 18,
      "outputs": []
    },
    {
      "cell_type": "code",
      "metadata": {
        "colab": {
          "base_uri": "https://localhost:8080/"
        },
        "id": "0bKwM8CbNK7M",
        "outputId": "52572e8c-567c-4350-d553-b72f44a04c68"
      },
      "source": [
        "#모델 학습\n",
        "from sklearn import tree \n",
        "import numpy as np \n",
        "import matplotlib.pylab as plt\n",
        "from sklearn import preprocessing\n",
        "\n",
        "le = preprocessing.LabelEncoder()\n",
        "y_encoded = le.fit_transform(y_train)\n",
        "# print(y_train)\n",
        "# print(y_encoded)\n",
        "clf = tree.DecisionTreeClassifier(random_state=35).fit(X_train, y_encoded)"
      ],
      "execution_count": 19,
      "outputs": [
        {
          "output_type": "stream",
          "text": [
            "/usr/local/lib/python3.6/dist-packages/sklearn/preprocessing/_label.py:251: DataConversionWarning: A column-vector y was passed when a 1d array was expected. Please change the shape of y to (n_samples, ), for example using ravel().\n",
            "  y = column_or_1d(y, warn=True)\n"
          ],
          "name": "stderr"
        }
      ]
    },
    {
      "cell_type": "code",
      "metadata": {
        "id": "bdv7vNdUNNVA"
      },
      "source": [
        "#학습된 의사결정 트리를 시각화\n",
        "def display_decision_surface(clf,X,y):\n",
        "    x_min = X.longitude.min() -0.01\n",
        "    x_max = X.longitude.max() +0.01\n",
        "    y_min = X.latitude.min() -0.01\n",
        "    y_max = X.latitude.max() +0.01\n",
        "\n",
        "    n_classes = len(le.classes_)\n",
        "    plot_colors = 'rywb'\n",
        "    plot_step = 0.001\n",
        "\n",
        "    xx,yy = np.meshgrid(np.arange(x_min,x_max, plot_step),np.arange(y_min,y_max, plot_step))\n",
        "    \n",
        "    Z = clf.predict(np.c_[xx.ravel(),yy.ravel()])\n",
        "    Z = Z.reshape(xx.shape)\n",
        "    cs = plt.contourf(xx,yy,Z, cmap=plt.cm.RdYlBu)\n",
        "\n",
        "    for i, color in zip(range(n_classes), plot_colors):\n",
        "        idx = np.where(y==i)\n",
        "        plt.scatter(X.loc[idx].longitude, X.loc[idx].latitude,c=color,label=le.classes_[i],cmap=plt.cm.RdYlBu,edgecolors='black',s=200)\n",
        "    plt.title(\"Decision surface of a decision tree\",fontsize=16)\n",
        "    plt.legend(bbox_to_anchor=(1.05, 1), loc=2, borderaxespad=0., fontsize=14)\n",
        "    plt.xlabel('longitude',fontsize=16)\n",
        "    plt.ylabel('latitude',fontsize=16)\n",
        "    plt.rcParams[\"figure.figsize\"] = [7,5]\n",
        "    plt.rcParams[\"font.size\"] = 14\n",
        "    plt.rcParams[\"xtick.labelsize\"] = 14\n",
        "    plt.rcParams[\"ytick.labelsize\"] = 14\n",
        "\n",
        "    plt.show()\n",
        "\n"
      ],
      "execution_count": 20,
      "outputs": []
    },
    {
      "cell_type": "code",
      "metadata": {
        "colab": {
          "base_uri": "https://localhost:8080/",
          "height": 302
        },
        "id": "MqwTOW_LNT00",
        "outputId": "6e7ff4d4-16be-40f5-eba3-173a96897b19"
      },
      "source": [
        "display_decision_surface(clf,X_train,y_encoded)"
      ],
      "execution_count": 21,
      "outputs": [
        {
          "output_type": "display_data",
          "data": {
            "image/png": "[encoded data removed]",
            "text/plain": [
              "<Figure size 432x288 with 1 Axes>"
            ]
          },
          "metadata": {
            "tags": [],
            "needs_background": "light"
          }
        }
      ]
    },
    {
      "cell_type": "code",
      "metadata": {
        "colab": {
          "base_uri": "https://localhost:8080/",
          "height": 361
        },
        "id": "PjmDeAvDNWAH",
        "outputId": "6be79c77-8f47-4b6d-bc3d-2ca955922de7"
      },
      "source": [
        "clf = tree.DecisionTreeClassifier(max_depth=4,min_samples_split=2,min_samples_leaf=2,random_state=70).fit(X_train,y_encoded.ravel())\n",
        "display_decision_surface(clf,X_train,y_encoded)"
      ],
      "execution_count": 22,
      "outputs": [
        {
          "output_type": "display_data",
          "data": {
            "image/png": "[encoded data removed]",
            "text/plain": [
              "<Figure size 504x360 with 1 Axes>"
            ]
          },
          "metadata": {
            "tags": [],
            "needs_background": "light"
          }
        }
      ]
    },
    {
      "cell_type": "code",
      "metadata": {
        "colab": {
          "base_uri": "https://localhost:8080/",
          "height": 757
        },
        "id": "2k2OYhuyNX6b",
        "outputId": "36388031-f8b7-4dde-d0ce-5b56369955c3"
      },
      "source": [
        "import graphviz\n",
        "dot_data = tree.export_graphviz(clf, out_file=None)\n",
        "graph = graphviz.Source(dot_data)\n",
        "graph.render(\"seoul\")\n",
        "\n",
        "dot_data = tree.export_graphviz(clf, out_file=None, \n",
        "                         feature_names=['longitude','latitude'],  \n",
        "                         class_names=['Gangbuk', 'Gangdong', 'Gangnam', 'Gangseo'],  \n",
        "                         filled=True, rounded=True,  \n",
        "                         special_characters=True)  \n",
        "graph = graphviz.Source(dot_data)  \n",
        "graph"
      ],
      "execution_count": 23,
      "outputs": [
        {
          "output_type": "execute_result",
          "data": {
            "text/plain": [
              "<graphviz.files.Source at 0x7f62993e9be0>"
            ],
            "image/svg+xml": "<?xml version=\"1.0\" encoding=\"UTF-8\" standalone=\"no\"?>\n<!DOCTYPE svg PUBLIC \"-//W3C//DTD SVG 1.1//EN\"\n \"http://www.w3.org/Graphics/SVG/1.1/DTD/svg11.dtd\">\n<!-- Generated by graphviz version 2.40.1 (20161225.0304)\n -->\n<!-- Title: Tree Pages: 1 -->\n<svg width=\"441pt\" height=\"552pt\"\n viewBox=\"0.00 0.00 441.00 552.00\" xmlns=\"http://www.w3.org/2000/svg\" xmlns:xlink=\"http://www.w3.org/1999/xlink\">\n<g id=\"graph0\" class=\"graph\" transform=\"scale(1 1) rotate(0) translate(4 548)\">\n<title>Tree</title>\n<polygon fill=\"#ffffff\" stroke=\"transparent\" points=\"-4,4 -4,-548 437,-548 437,4 -4,4\"/>\n<!-- 0 -->\n<g id=\"node1\" class=\"node\">\n<title>0</title>\n<path fill=\"#ffffff\" stroke=\"#000000\" d=\"M199.5,-544C199.5,-544 79.5,-544 79.5,-544 73.5,-544 67.5,-538 67.5,-532 67.5,-532 67.5,-473 67.5,-473 67.5,-467 73.5,-461 79.5,-461 79.5,-461 199.5,-461 199.5,-461 205.5,-461 211.5,-467 211.5,-473 211.5,-473 211.5,-532 211.5,-532 211.5,-538 205.5,-544 199.5,-544\"/>\n<text text-anchor=\"start\" x=\"75.5\" y=\"-528.8\" font-family=\"Helvetica,sans-Serif\" font-size=\"14.00\" fill=\"#000000\">longitude ≤ 126.912</text>\n<text text-anchor=\"start\" x=\"106\" y=\"-513.8\" font-family=\"Helvetica,sans-Serif\" font-size=\"14.00\" fill=\"#000000\">gini = 0.75</text>\n<text text-anchor=\"start\" x=\"95.5\" y=\"-498.8\" font-family=\"Helvetica,sans-Serif\" font-size=\"14.00\" fill=\"#000000\">samples = 20</text>\n<text text-anchor=\"start\" x=\"82\" y=\"-483.8\" font-family=\"Helvetica,sans-Serif\" font-size=\"14.00\" fill=\"#000000\">value = [5, 5, 5, 5]</text>\n<text text-anchor=\"start\" x=\"84.5\" y=\"-468.8\" font-family=\"Helvetica,sans-Serif\" font-size=\"14.00\" fill=\"#000000\">class = Gangbuk</text>\n</g>\n<!-- 1 -->\n<g id=\"node2\" class=\"node\">\n<title>1</title>\n<path fill=\"#d739e5\" stroke=\"#000000\" d=\"M119,-417.5C119,-417.5 12,-417.5 12,-417.5 6,-417.5 0,-411.5 0,-405.5 0,-405.5 0,-361.5 0,-361.5 0,-355.5 6,-349.5 12,-349.5 12,-349.5 119,-349.5 119,-349.5 125,-349.5 131,-355.5 131,-361.5 131,-361.5 131,-405.5 131,-405.5 131,-411.5 125,-417.5 119,-417.5\"/>\n<text text-anchor=\"start\" x=\"36\" y=\"-402.3\" font-family=\"Helvetica,sans-Serif\" font-size=\"14.00\" fill=\"#000000\">gini = 0.0</text>\n<text text-anchor=\"start\" x=\"26\" y=\"-387.3\" font-family=\"Helvetica,sans-Serif\" font-size=\"14.00\" fill=\"#000000\">samples = 5</text>\n<text text-anchor=\"start\" x=\"8\" y=\"-372.3\" font-family=\"Helvetica,sans-Serif\" font-size=\"14.00\" fill=\"#000000\">value = [0, 0, 0, 5]</text>\n<text text-anchor=\"start\" x=\"10.5\" y=\"-357.3\" font-family=\"Helvetica,sans-Serif\" font-size=\"14.00\" fill=\"#000000\">class = Gangseo</text>\n</g>\n<!-- 0&#45;&gt;1 -->\n<g id=\"edge1\" class=\"edge\">\n<title>0&#45;&gt;1</title>\n<path fill=\"none\" stroke=\"#000000\" d=\"M113.6184,-460.8796C106.7121,-449.7735 99.2361,-437.7513 92.2825,-426.5691\"/>\n<polygon fill=\"#000000\" stroke=\"#000000\" points=\"95.0917,-424.4587 86.8387,-417.8149 89.1473,-428.1552 95.0917,-424.4587\"/>\n<text text-anchor=\"middle\" x=\"81.1619\" y=\"-438.4619\" font-family=\"Helvetica,sans-Serif\" font-size=\"14.00\" fill=\"#000000\">True</text>\n</g>\n<!-- 2 -->\n<g id=\"node3\" class=\"node\">\n<title>2</title>\n<path fill=\"#ffffff\" stroke=\"#000000\" d=\"M268,-425C268,-425 161,-425 161,-425 155,-425 149,-419 149,-413 149,-413 149,-354 149,-354 149,-348 155,-342 161,-342 161,-342 268,-342 268,-342 274,-342 280,-348 280,-354 280,-354 280,-413 280,-413 280,-419 274,-425 268,-425\"/>\n<text text-anchor=\"start\" x=\"161\" y=\"-409.8\" font-family=\"Helvetica,sans-Serif\" font-size=\"14.00\" fill=\"#000000\">latitude ≤ 37.525</text>\n<text text-anchor=\"start\" x=\"176.5\" y=\"-394.8\" font-family=\"Helvetica,sans-Serif\" font-size=\"14.00\" fill=\"#000000\">gini = 0.667</text>\n<text text-anchor=\"start\" x=\"170.5\" y=\"-379.8\" font-family=\"Helvetica,sans-Serif\" font-size=\"14.00\" fill=\"#000000\">samples = 15</text>\n<text text-anchor=\"start\" x=\"157\" y=\"-364.8\" font-family=\"Helvetica,sans-Serif\" font-size=\"14.00\" fill=\"#000000\">value = [5, 5, 5, 0]</text>\n<text text-anchor=\"start\" x=\"159.5\" y=\"-349.8\" font-family=\"Helvetica,sans-Serif\" font-size=\"14.00\" fill=\"#000000\">class = Gangbuk</text>\n</g>\n<!-- 0&#45;&gt;2 -->\n<g id=\"edge2\" class=\"edge\">\n<title>0&#45;&gt;2</title>\n<path fill=\"none\" stroke=\"#000000\" d=\"M165.7314,-460.8796C171.2373,-452.1434 177.1006,-442.8404 182.7824,-433.8253\"/>\n<polygon fill=\"#000000\" stroke=\"#000000\" points=\"185.7857,-435.6242 188.1567,-425.2981 179.8637,-431.8919 185.7857,-435.6242\"/>\n<text text-anchor=\"middle\" x=\"193.6863\" y=\"-445.9789\" font-family=\"Helvetica,sans-Serif\" font-size=\"14.00\" fill=\"#000000\">False</text>\n</g>\n<!-- 3 -->\n<g id=\"node4\" class=\"node\">\n<title>3</title>\n<path fill=\"#399de5\" stroke=\"#000000\" d=\"M194,-298.5C194,-298.5 87,-298.5 87,-298.5 81,-298.5 75,-292.5 75,-286.5 75,-286.5 75,-242.5 75,-242.5 75,-236.5 81,-230.5 87,-230.5 87,-230.5 194,-230.5 194,-230.5 200,-230.5 206,-236.5 206,-242.5 206,-242.5 206,-286.5 206,-286.5 206,-292.5 200,-298.5 194,-298.5\"/>\n<text text-anchor=\"start\" x=\"111\" y=\"-283.3\" font-family=\"Helvetica,sans-Serif\" font-size=\"14.00\" fill=\"#000000\">gini = 0.0</text>\n<text text-anchor=\"start\" x=\"101\" y=\"-268.3\" font-family=\"Helvetica,sans-Serif\" font-size=\"14.00\" fill=\"#000000\">samples = 5</text>\n<text text-anchor=\"start\" x=\"83\" y=\"-253.3\" font-family=\"Helvetica,sans-Serif\" font-size=\"14.00\" fill=\"#000000\">value = [0, 0, 5, 0]</text>\n<text text-anchor=\"start\" x=\"83\" y=\"-238.3\" font-family=\"Helvetica,sans-Serif\" font-size=\"14.00\" fill=\"#000000\">class = Gangnam</text>\n</g>\n<!-- 2&#45;&gt;3 -->\n<g id=\"edge3\" class=\"edge\">\n<title>2&#45;&gt;3</title>\n<path fill=\"none\" stroke=\"#000000\" d=\"M188.6184,-341.8796C181.7121,-330.7735 174.2361,-318.7513 167.2825,-307.5691\"/>\n<polygon fill=\"#000000\" stroke=\"#000000\" points=\"170.0917,-305.4587 161.8387,-298.8149 164.1473,-309.1552 170.0917,-305.4587\"/>\n</g>\n<!-- 4 -->\n<g id=\"node5\" class=\"node\">\n<title>4</title>\n<path fill=\"#ffffff\" stroke=\"#000000\" d=\"M343,-306C343,-306 236,-306 236,-306 230,-306 224,-300 224,-294 224,-294 224,-235 224,-235 224,-229 230,-223 236,-223 236,-223 343,-223 343,-223 349,-223 355,-229 355,-235 355,-235 355,-294 355,-294 355,-300 349,-306 343,-306\"/>\n<text text-anchor=\"start\" x=\"236\" y=\"-290.8\" font-family=\"Helvetica,sans-Serif\" font-size=\"14.00\" fill=\"#000000\">latitude ≤ 37.599</text>\n<text text-anchor=\"start\" x=\"260\" y=\"-275.8\" font-family=\"Helvetica,sans-Serif\" font-size=\"14.00\" fill=\"#000000\">gini = 0.5</text>\n<text text-anchor=\"start\" x=\"245.5\" y=\"-260.8\" font-family=\"Helvetica,sans-Serif\" font-size=\"14.00\" fill=\"#000000\">samples = 10</text>\n<text text-anchor=\"start\" x=\"232\" y=\"-245.8\" font-family=\"Helvetica,sans-Serif\" font-size=\"14.00\" fill=\"#000000\">value = [5, 5, 0, 0]</text>\n<text text-anchor=\"start\" x=\"234.5\" y=\"-230.8\" font-family=\"Helvetica,sans-Serif\" font-size=\"14.00\" fill=\"#000000\">class = Gangbuk</text>\n</g>\n<!-- 2&#45;&gt;4 -->\n<g id=\"edge4\" class=\"edge\">\n<title>2&#45;&gt;4</title>\n<path fill=\"none\" stroke=\"#000000\" d=\"M240.7314,-341.8796C246.2373,-333.1434 252.1006,-323.8404 257.7824,-314.8253\"/>\n<polygon fill=\"#000000\" stroke=\"#000000\" points=\"260.7857,-316.6242 263.1567,-306.2981 254.8637,-312.8919 260.7857,-316.6242\"/>\n</g>\n<!-- 5 -->\n<g id=\"node6\" class=\"node\">\n<title>5</title>\n<path fill=\"#91ef88\" stroke=\"#000000\" d=\"M271.5,-187C271.5,-187 151.5,-187 151.5,-187 145.5,-187 139.5,-181 139.5,-175 139.5,-175 139.5,-116 139.5,-116 139.5,-110 145.5,-104 151.5,-104 151.5,-104 271.5,-104 271.5,-104 277.5,-104 283.5,-110 283.5,-116 283.5,-116 283.5,-175 283.5,-175 283.5,-181 277.5,-187 271.5,-187\"/>\n<text text-anchor=\"start\" x=\"147.5\" y=\"-171.8\" font-family=\"Helvetica,sans-Serif\" font-size=\"14.00\" fill=\"#000000\">longitude ≤ 127.017</text>\n<text text-anchor=\"start\" x=\"173.5\" y=\"-156.8\" font-family=\"Helvetica,sans-Serif\" font-size=\"14.00\" fill=\"#000000\">gini = 0.408</text>\n<text text-anchor=\"start\" x=\"172\" y=\"-141.8\" font-family=\"Helvetica,sans-Serif\" font-size=\"14.00\" fill=\"#000000\">samples = 7</text>\n<text text-anchor=\"start\" x=\"154\" y=\"-126.8\" font-family=\"Helvetica,sans-Serif\" font-size=\"14.00\" fill=\"#000000\">value = [2, 5, 0, 0]</text>\n<text text-anchor=\"start\" x=\"152\" y=\"-111.8\" font-family=\"Helvetica,sans-Serif\" font-size=\"14.00\" fill=\"#000000\">class = Gangdong</text>\n</g>\n<!-- 4&#45;&gt;5 -->\n<g id=\"edge5\" class=\"edge\">\n<title>4&#45;&gt;5</title>\n<path fill=\"none\" stroke=\"#000000\" d=\"M262.2194,-222.8796C256.4932,-214.1434 250.3954,-204.8404 244.4863,-195.8253\"/>\n<polygon fill=\"#000000\" stroke=\"#000000\" points=\"247.3063,-193.7429 238.8971,-187.2981 241.4518,-197.5803 247.3063,-193.7429\"/>\n</g>\n<!-- 8 -->\n<g id=\"node9\" class=\"node\">\n<title>8</title>\n<path fill=\"#e58139\" stroke=\"#000000\" d=\"M421,-179.5C421,-179.5 314,-179.5 314,-179.5 308,-179.5 302,-173.5 302,-167.5 302,-167.5 302,-123.5 302,-123.5 302,-117.5 308,-111.5 314,-111.5 314,-111.5 421,-111.5 421,-111.5 427,-111.5 433,-117.5 433,-123.5 433,-123.5 433,-167.5 433,-167.5 433,-173.5 427,-179.5 421,-179.5\"/>\n<text text-anchor=\"start\" x=\"338\" y=\"-164.3\" font-family=\"Helvetica,sans-Serif\" font-size=\"14.00\" fill=\"#000000\">gini = 0.0</text>\n<text text-anchor=\"start\" x=\"328\" y=\"-149.3\" font-family=\"Helvetica,sans-Serif\" font-size=\"14.00\" fill=\"#000000\">samples = 3</text>\n<text text-anchor=\"start\" x=\"310\" y=\"-134.3\" font-family=\"Helvetica,sans-Serif\" font-size=\"14.00\" fill=\"#000000\">value = [3, 0, 0, 0]</text>\n<text text-anchor=\"start\" x=\"312.5\" y=\"-119.3\" font-family=\"Helvetica,sans-Serif\" font-size=\"14.00\" fill=\"#000000\">class = Gangbuk</text>\n</g>\n<!-- 4&#45;&gt;8 -->\n<g id=\"edge8\" class=\"edge\">\n<title>4&#45;&gt;8</title>\n<path fill=\"none\" stroke=\"#000000\" d=\"M316.7806,-222.8796C324.1323,-211.6636 332.0964,-199.5131 339.4874,-188.2372\"/>\n<polygon fill=\"#000000\" stroke=\"#000000\" points=\"342.4531,-190.0972 345.0079,-179.8149 336.5986,-186.2598 342.4531,-190.0972\"/>\n</g>\n<!-- 6 -->\n<g id=\"node7\" class=\"node\">\n<title>6</title>\n<path fill=\"#e58139\" stroke=\"#000000\" d=\"M190,-68C190,-68 83,-68 83,-68 77,-68 71,-62 71,-56 71,-56 71,-12 71,-12 71,-6 77,0 83,0 83,0 190,0 190,0 196,0 202,-6 202,-12 202,-12 202,-56 202,-56 202,-62 196,-68 190,-68\"/>\n<text text-anchor=\"start\" x=\"107\" y=\"-52.8\" font-family=\"Helvetica,sans-Serif\" font-size=\"14.00\" fill=\"#000000\">gini = 0.0</text>\n<text text-anchor=\"start\" x=\"97\" y=\"-37.8\" font-family=\"Helvetica,sans-Serif\" font-size=\"14.00\" fill=\"#000000\">samples = 2</text>\n<text text-anchor=\"start\" x=\"79\" y=\"-22.8\" font-family=\"Helvetica,sans-Serif\" font-size=\"14.00\" fill=\"#000000\">value = [2, 0, 0, 0]</text>\n<text text-anchor=\"start\" x=\"81.5\" y=\"-7.8\" font-family=\"Helvetica,sans-Serif\" font-size=\"14.00\" fill=\"#000000\">class = Gangbuk</text>\n</g>\n<!-- 5&#45;&gt;6 -->\n<g id=\"edge6\" class=\"edge\">\n<title>5&#45;&gt;6</title>\n<path fill=\"none\" stroke=\"#000000\" d=\"M183.5728,-103.9815C177.5762,-95.0666 171.2296,-85.6313 165.2041,-76.6734\"/>\n<polygon fill=\"#000000\" stroke=\"#000000\" points=\"168.0328,-74.6078 159.5473,-68.2637 162.2245,-78.5147 168.0328,-74.6078\"/>\n</g>\n<!-- 7 -->\n<g id=\"node8\" class=\"node\">\n<title>7</title>\n<path fill=\"#47e539\" stroke=\"#000000\" d=\"M343,-68C343,-68 232,-68 232,-68 226,-68 220,-62 220,-56 220,-56 220,-12 220,-12 220,-6 226,0 232,0 232,0 343,0 343,0 349,0 355,-6 355,-12 355,-12 355,-56 355,-56 355,-62 349,-68 343,-68\"/>\n<text text-anchor=\"start\" x=\"258\" y=\"-52.8\" font-family=\"Helvetica,sans-Serif\" font-size=\"14.00\" fill=\"#000000\">gini = 0.0</text>\n<text text-anchor=\"start\" x=\"248\" y=\"-37.8\" font-family=\"Helvetica,sans-Serif\" font-size=\"14.00\" fill=\"#000000\">samples = 5</text>\n<text text-anchor=\"start\" x=\"230\" y=\"-22.8\" font-family=\"Helvetica,sans-Serif\" font-size=\"14.00\" fill=\"#000000\">value = [0, 5, 0, 0]</text>\n<text text-anchor=\"start\" x=\"228\" y=\"-7.8\" font-family=\"Helvetica,sans-Serif\" font-size=\"14.00\" fill=\"#000000\">class = Gangdong</text>\n</g>\n<!-- 5&#45;&gt;7 -->\n<g id=\"edge7\" class=\"edge\">\n<title>5&#45;&gt;7</title>\n<path fill=\"none\" stroke=\"#000000\" d=\"M239.7996,-103.9815C245.8762,-95.0666 252.3074,-85.6313 258.4132,-76.6734\"/>\n<polygon fill=\"#000000\" stroke=\"#000000\" points=\"261.4052,-78.498 264.1454,-68.2637 255.6211,-74.5555 261.4052,-78.498\"/>\n</g>\n</g>\n</svg>\n"
          },
          "metadata": {
            "tags": []
          },
          "execution_count": 23
        }
      ]
    },
    {
      "cell_type": "code",
      "metadata": {
        "colab": {
          "base_uri": "https://localhost:8080/"
        },
        "id": "AkkHZYqRNZzB",
        "outputId": "f054d39e-810a-426f-967d-6e28611988af"
      },
      "source": [
        "from sklearn.metrics import accuracy_score\n",
        "pred = clf.predict(X_test)\n",
        "print('accuracy:'+str(accuracy_score(y_test.values.ravel(),le.classes_[pred])))"
      ],
      "execution_count": 24,
      "outputs": [
        {
          "output_type": "stream",
          "text": [
            "accuracy:1.0\n"
          ],
          "name": "stdout"
        }
      ]
    },
    {
      "cell_type": "code",
      "metadata": {
        "colab": {
          "base_uri": "https://localhost:8080/",
          "height": 669
        },
        "id": "bHPsYJeFNc9f",
        "outputId": "e3af7d16-cb76-4137-e815-76e569bb9dfc"
      },
      "source": [
        "comparision=pd.DataFrame({'prediction':le.classes_[pred],\n",
        "'groud_truth':y_test.values.ravel()})\n",
        "comparision"
      ],
      "execution_count": 26,
      "outputs": [
        {
          "output_type": "execute_result",
          "data": {
            "text/html": [
              "<div>\n",
              "<style scoped>\n",
              "    .dataframe tbody tr th:only-of-type {\n",
              "        vertical-align: middle;\n",
              "    }\n",
              "\n",
              "    .dataframe tbody tr th {\n",
              "        vertical-align: top;\n",
              "    }\n",
              "\n",
              "    .dataframe thead th {\n",
              "        text-align: right;\n",
              "    }\n",
              "</style>\n",
              "<table border=\"1\" class=\"dataframe\">\n",
              "  <thead>\n",
              "    <tr style=\"text-align: right;\">\n",
              "      <th></th>\n",
              "      <th>prediction</th>\n",
              "      <th>groud_truth</th>\n",
              "    </tr>\n",
              "  </thead>\n",
              "  <tbody>\n",
              "    <tr>\n",
              "      <th>0</th>\n",
              "      <td>Gangseo</td>\n",
              "      <td>Gangseo</td>\n",
              "    </tr>\n",
              "    <tr>\n",
              "      <th>1</th>\n",
              "      <td>Gangseo</td>\n",
              "      <td>Gangseo</td>\n",
              "    </tr>\n",
              "    <tr>\n",
              "      <th>2</th>\n",
              "      <td>Gangseo</td>\n",
              "      <td>Gangseo</td>\n",
              "    </tr>\n",
              "    <tr>\n",
              "      <th>3</th>\n",
              "      <td>Gangseo</td>\n",
              "      <td>Gangseo</td>\n",
              "    </tr>\n",
              "    <tr>\n",
              "      <th>4</th>\n",
              "      <td>Gangseo</td>\n",
              "      <td>Gangseo</td>\n",
              "    </tr>\n",
              "    <tr>\n",
              "      <th>5</th>\n",
              "      <td>Gangnam</td>\n",
              "      <td>Gangnam</td>\n",
              "    </tr>\n",
              "    <tr>\n",
              "      <th>6</th>\n",
              "      <td>Gangnam</td>\n",
              "      <td>Gangnam</td>\n",
              "    </tr>\n",
              "    <tr>\n",
              "      <th>7</th>\n",
              "      <td>Gangnam</td>\n",
              "      <td>Gangnam</td>\n",
              "    </tr>\n",
              "    <tr>\n",
              "      <th>8</th>\n",
              "      <td>Gangnam</td>\n",
              "      <td>Gangnam</td>\n",
              "    </tr>\n",
              "    <tr>\n",
              "      <th>9</th>\n",
              "      <td>Gangnam</td>\n",
              "      <td>Gangnam</td>\n",
              "    </tr>\n",
              "    <tr>\n",
              "      <th>10</th>\n",
              "      <td>Gangbuk</td>\n",
              "      <td>Gangbuk</td>\n",
              "    </tr>\n",
              "    <tr>\n",
              "      <th>11</th>\n",
              "      <td>Gangbuk</td>\n",
              "      <td>Gangbuk</td>\n",
              "    </tr>\n",
              "    <tr>\n",
              "      <th>12</th>\n",
              "      <td>Gangbuk</td>\n",
              "      <td>Gangbuk</td>\n",
              "    </tr>\n",
              "    <tr>\n",
              "      <th>13</th>\n",
              "      <td>Gangbuk</td>\n",
              "      <td>Gangbuk</td>\n",
              "    </tr>\n",
              "    <tr>\n",
              "      <th>14</th>\n",
              "      <td>Gangbuk</td>\n",
              "      <td>Gangbuk</td>\n",
              "    </tr>\n",
              "    <tr>\n",
              "      <th>15</th>\n",
              "      <td>Gangdong</td>\n",
              "      <td>Gangdong</td>\n",
              "    </tr>\n",
              "    <tr>\n",
              "      <th>16</th>\n",
              "      <td>Gangdong</td>\n",
              "      <td>Gangdong</td>\n",
              "    </tr>\n",
              "    <tr>\n",
              "      <th>17</th>\n",
              "      <td>Gangdong</td>\n",
              "      <td>Gangdong</td>\n",
              "    </tr>\n",
              "    <tr>\n",
              "      <th>18</th>\n",
              "      <td>Gangdong</td>\n",
              "      <td>Gangdong</td>\n",
              "    </tr>\n",
              "    <tr>\n",
              "      <th>19</th>\n",
              "      <td>Gangdong</td>\n",
              "      <td>Gangdong</td>\n",
              "    </tr>\n",
              "  </tbody>\n",
              "</table>\n",
              "</div>"
            ],
            "text/plain": [
              "   prediction groud_truth\n",
              "0     Gangseo     Gangseo\n",
              "1     Gangseo     Gangseo\n",
              "2     Gangseo     Gangseo\n",
              "3     Gangseo     Gangseo\n",
              "4     Gangseo     Gangseo\n",
              "5     Gangnam     Gangnam\n",
              "6     Gangnam     Gangnam\n",
              "7     Gangnam     Gangnam\n",
              "8     Gangnam     Gangnam\n",
              "9     Gangnam     Gangnam\n",
              "10    Gangbuk     Gangbuk\n",
              "11    Gangbuk     Gangbuk\n",
              "12    Gangbuk     Gangbuk\n",
              "13    Gangbuk     Gangbuk\n",
              "14    Gangbuk     Gangbuk\n",
              "15   Gangdong    Gangdong\n",
              "16   Gangdong    Gangdong\n",
              "17   Gangdong    Gangdong\n",
              "18   Gangdong    Gangdong\n",
              "19   Gangdong    Gangdong"
            ]
          },
          "metadata": {
            "tags": []
          },
          "execution_count": 26
        }
      ]
    },
    {
      "cell_type": "code",
      "metadata": {
        "id": "HASlZuaqNedi"
      },
      "source": [
        ""
      ],
      "execution_count": null,
      "outputs": []
    }
  ]
}